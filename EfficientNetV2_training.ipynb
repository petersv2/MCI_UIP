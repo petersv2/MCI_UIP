{
 "cells": [
  {
   "cell_type": "code",
   "execution_count": 1,
   "metadata": {},
   "outputs": [],
   "source": [
    "import pandas as pd\n",
    "import os\n",
    "import numpy as np\n",
    "import torch\n",
    "import timm\n",
    "import matplotlib.pyplot as plt\n",
    "from dataset_EfficientNetV2 import Dataset_EfficientNetV2\n"
   ]
  },
  {
   "cell_type": "code",
   "execution_count": 2,
   "metadata": {},
   "outputs": [],
   "source": [
    "\n",
    "folder_path = '' #path to top folder containing patient directories. \n",
    "label_meta_data_path = '' #csv file with patient IDs and corresponding diagnostic labels.\n",
    "output_folder_path= '' #folder where final trained model will be saved.\n",
    "\n",
    "subject_meta = pd.read_csv(label_meta_data_path)\n",
    "\n",
    "is_ct_image=False  #set to False if MCI, set to True if CT\n",
    "is_shape = False   #set to True if working with binary shape images. Should only be True if is_ct_image is also True\n",
    "\n",
    "batch_size_val = 32\n",
    "step_size=2\n",
    "num_epochs = 6 # or however many you need\n",
    "\n",
    "#The following values are default for the Adam optimizer / scheduler in pytorch\n",
    "learning_rate = 1e-3\n",
    "beta1 = 0.9\n",
    "beta2 = 0.999\n",
    "gamma=0.1\n",
    "\n",
    "\n",
    "\n"
   ]
  },
  {
   "cell_type": "code",
   "execution_count": null,
   "metadata": {},
   "outputs": [],
   "source": [
    "# Load training dataset\n",
    "dataset=Dataset_EfficientNetV2(folder_path, subject_meta, is_ct_image=is_ct_image, is_shape=is_shape)"
   ]
  },
  {
   "cell_type": "code",
   "execution_count": null,
   "metadata": {},
   "outputs": [],
   "source": [
    "#Visualize an example montage. In this example, the cmap='jet', vmin and vmax parameters are set \n",
    "#for the case of an MCI montage. For CT, you can use cmap='gray', without setting vmin and vmax\n",
    "plt.imshow(dataset.images[150],cmap='jet',vmin=-1.5,vmax=1.5)"
   ]
  },
  {
   "cell_type": "code",
   "execution_count": null,
   "metadata": {},
   "outputs": [],
   "source": [
    "device = torch.device(\"cuda:0\" if torch.cuda.is_available() else \"cpu\")\n",
    "print(f\"Using device: {device}\")\n"
   ]
  },
  {
   "cell_type": "code",
   "execution_count": 11,
   "metadata": {},
   "outputs": [],
   "source": [
    "\n",
    "\n",
    "train_loader = torch.utils.data.DataLoader(dataset, batch_size=batch_size_val, shuffle=True)\n"
   ]
  },
  {
   "cell_type": "code",
   "execution_count": 12,
   "metadata": {},
   "outputs": [],
   "source": [
    "# Initialize the model\n",
    "model = timm.create_model('tf_efficientnetv2_s',in_chans=1,pretrained=True).to(device)\n",
    "\n",
    "# Loss function\n",
    "criterion = torch.nn.CrossEntropyLoss()\n",
    "\n",
    "# Optimizer with decay\n",
    "\n",
    "optimizer = torch.optim.Adam(model.parameters(), lr=learning_rate, betas=(beta1, beta2))\n",
    "scheduler = torch.optim.lr_scheduler.StepLR(optimizer, step_size=step_size, gamma=gamma)\n"
   ]
  },
  {
   "cell_type": "code",
   "execution_count": null,
   "metadata": {},
   "outputs": [],
   "source": [
    "\n",
    "\n",
    "for epoch in range(num_epochs):\n",
    "    model.train()\n",
    "    running_loss = 0.0\n",
    "    for i, (images, labels, _,_) in enumerate(train_loader):\n",
    "        images, labels = images.to(device), labels.to(device)\n",
    "\n",
    "        # Forward pass\n",
    "        outputs = model(images)\n",
    "        loss = criterion(outputs, labels)\n",
    "\n",
    "        # Backward pass and optimization\n",
    "        optimizer.zero_grad()\n",
    "        loss.backward()\n",
    "        optimizer.step()\n",
    "\n",
    "        running_loss += loss.item()\n",
    "\n",
    "    running_loss /= len(train_loader)\n",
    "    scheduler.step()\n",
    "\n",
    "\n",
    "\n",
    "    print(f'Epoch [{epoch+1}/{num_epochs}], Training Loss: {running_loss}')\n",
    "\n",
    "    #save model only after last epoch if you want to save disk space, but this can be changed\n",
    "    if(epoch==num_epochs-1):\n",
    "\n",
    "        model_filename = 'trained_model_EfficientNetV2_epoch{}.pth'.format(epoch+1) # name of trained model file to be saved\n",
    "        model_save_path = os.path.join(output_folder_path, model_filename)\n",
    "        torch.save({\n",
    "            'epoch': epoch,\n",
    "            'model_state_dict': model.state_dict(),\n",
    "            'optimizer_state_dict': optimizer.state_dict(),\n",
    "            'loss': running_loss,\n",
    "        }, model_save_path)\n",
    "\n",
    "\n"
   ]
  }
 ],
 "metadata": {
  "kernelspec": {
   "display_name": ".venv",
   "language": "python",
   "name": "python3"
  },
  "language_info": {
   "codemirror_mode": {
    "name": "ipython",
    "version": 3
   },
   "file_extension": ".py",
   "mimetype": "text/x-python",
   "name": "python",
   "nbconvert_exporter": "python",
   "pygments_lexer": "ipython3",
   "version": "3.10.12"
  }
 },
 "nbformat": 4,
 "nbformat_minor": 2
}
