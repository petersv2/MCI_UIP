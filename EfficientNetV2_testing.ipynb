{
 "cells": [
  {
   "cell_type": "code",
   "execution_count": 1,
   "metadata": {},
   "outputs": [],
   "source": [
    "import pandas as pd\n",
    "import numpy as np\n",
    "import torch\n",
    "import timm\n",
    "from dataset_EfficientNetV2 import Dataset_EfficientNetV2\n"
   ]
  },
  {
   "cell_type": "code",
   "execution_count": 2,
   "metadata": {},
   "outputs": [],
   "source": [
    "folder_path = '' #path to top folder containing patient directories. \n",
    "label_meta_data_path = '' #csv file with patient IDs and corresponding diagnostic labels.\n",
    "\n",
    "model_path = '' # path to file containing trained model\n",
    "predictions_output_csvfile = '' # path where a csv file will be saved with model predictions on testing dataset\n",
    "\n",
    "subject_meta = pd.read_csv(label_meta_data_path)\n",
    "\n",
    "is_ct_image=False  #set to False if MCI, set to True if CT\n",
    "is_shape=False     #set to True if working with binary shape images. Should only be True if is_ct_image is also True"
   ]
  },
  {
   "cell_type": "code",
   "execution_count": null,
   "metadata": {},
   "outputs": [],
   "source": [
    "\n",
    "# Load testing dataset\n",
    "dataset=Dataset_EfficientNetV2(folder_path, subject_meta, is_ct_image=is_ct_image, is_shape=is_shape)"
   ]
  },
  {
   "cell_type": "code",
   "execution_count": null,
   "metadata": {},
   "outputs": [],
   "source": [
    "device = torch.device(\"cuda:0\" if torch.cuda.is_available() else \"cpu\")"
   ]
  },
  {
   "cell_type": "code",
   "execution_count": 11,
   "metadata": {},
   "outputs": [],
   "source": [
    "\n",
    "\n",
    "val_loader = torch.utils.data.DataLoader(dataset, batch_size=64)\n"
   ]
  },
  {
   "cell_type": "code",
   "execution_count": 12,
   "metadata": {},
   "outputs": [],
   "source": [
    "\n",
    "# Load trained model and run inference on testing dataset\n",
    "\n",
    "model = timm.create_model('tf_efficientnetv2_s',in_chans=1,pretrained=True).to(device)\n",
    "model_data = torch.load(model_path)\n",
    "model.load_state_dict(model_data['model_state_dict'])\n",
    "model.eval()\n",
    "\n",
    "allPatients = {}\n",
    "allLabels = {}\n",
    "\n",
    "for val in dataset:\n",
    "    patient = val[3]\n",
    "    allPatients[patient] = np.zeros((1,3))\n",
    "    allLabels[patient] = val[1]\n",
    "\n",
    "\n",
    "\n",
    "with torch.no_grad():\n",
    "    for images, labels, _,patient in val_loader:\n",
    "        images, labels = images.to(device), labels.to(device)\n",
    "        outputs = model(images)\n",
    "        \n",
    "        _, predicted = torch.max(outputs.data, 1)        \n",
    "        for idx, p in enumerate(patient):\n",
    "            allPatients[p][0,predicted[idx]-1] += 1\n",
    "\n"
   ]
  },
  {
   "cell_type": "code",
   "execution_count": null,
   "metadata": {},
   "outputs": [],
   "source": [
    "from sklearn.metrics import confusion_matrix\n",
    "\n",
    "y_true = []\n",
    "y_pred = []\n",
    "patient_name = []\n",
    "for patient in allPatients:\n",
    "    y_true.append(allLabels[patient]-1)\n",
    "    y_pred.append(np.argmax(allPatients[patient]))\n",
    "    patient_name.append(patient)\n",
    "\n",
    "cm = confusion_matrix(y_true,y_pred)\n",
    "print(cm)"
   ]
  },
  {
   "cell_type": "code",
   "execution_count": null,
   "metadata": {},
   "outputs": [],
   "source": [
    "patient_predictions = pd.DataFrame(\n",
    "    {'patient': patient_name,\n",
    "     'prediction': y_pred,\n",
    "     'truth': y_true}\n",
    ")\n",
    "\n",
    "patient_predictions.to_csv(predictions_output_csvfile,index=False)"
   ]
  }
 ],
 "metadata": {
  "kernelspec": {
   "display_name": "python_venv",
   "language": "python",
   "name": "python3"
  },
  "language_info": {
   "codemirror_mode": {
    "name": "ipython",
    "version": 3
   },
   "file_extension": ".py",
   "mimetype": "text/x-python",
   "name": "python",
   "nbconvert_exporter": "python",
   "pygments_lexer": "ipython3",
   "version": "3.10.12"
  }
 },
 "nbformat": 4,
 "nbformat_minor": 2
}
